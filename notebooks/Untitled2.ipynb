{
 "cells": [
  {
   "cell_type": "code",
   "execution_count": null,
   "id": "488769ec-90d2-4d70-9cf2-54a92a13b5ad",
   "metadata": {},
   "outputs": [],
   "source": [
    "library(arrow)\n",
    "library(dplyr)\n",
    "library(plotly)\n",
    "library(data.table)\n",
    "library(ape)\n",
    "library(IRanges)\n",
    "library(RNOmni)\n",
    "library(ggplot2)\n",
    "library(hrbrthemes)\n",
    "library(viridis)\n"
   ]
  },
  {
   "cell_type": "code",
   "execution_count": 3,
   "id": "64fc1039-91ce-4d60-bdee-d21f168b6f64",
   "metadata": {},
   "outputs": [],
   "source": [
    "df <- read_feather('~/Documents/hinf/results/feather/Hinf_norm_mic.feather')\n",
    "df$AMP_MIC <- as.numeric(df$AMP_MIC)\n",
    "df$AMP_MIC.rankscaled <- RankNorm(df$AMP_MIC)\n",
    "df <- subset(df, select = -c(FullID, Perc.ReadsMapped, CoverageMappedReads,\n",
    "                             origin, AMP, serotype, beta_lactamase, samples, AMP_MIC))\n",
    "\n",
    "mutations <- c('ID_1688312_A', 'ID_1688314_T', 'ID_1688320_C', 'ID_1688338_T', 'ID_1688339_T', 'ID_1688340_G', 'ID_1688350_C', 'ID_1688354_T', 'ID_1688361_A', 'ID_1688365_A', 'ID_1688365_G', 'ID_1688415_C', 'ID_1688482_T', 'ID_1688533_A',\n",
    "               'ID_1688543_T', 'ID_1688543_C', 'ID_1688616_A', 'ID_1688617_T', 'ID_1688652_T', 'ID_1688770_T', 'ID_1688776_C', 'ID_1688990_A', 'ID_1689405_T', 'ID_1689438_A', 'ID_1689466_T', 'ID_1689667_C', 'ID_1689700_T', 'ID_1689747_A', \n",
    "               'ID_1689751_T', 'ID_1690021_G','ID_1690057_T', 'ID_1690102_G')\n",
    "\n",
    "xys <- expand.grid(mutations, mutations)\n",
    "\n",
    "n_combinations = dim(xys)[1] -1 #- length(mutations)\n",
    "\n",
    "# lin.reg.res <- data.table(\n",
    "#   id1 = character(n_combinations),\n",
    "#   id2 = character(n_combinations),\n",
    "#   pos = integer(n_combinations),\n",
    "#   alt.allele = character(n_combinations),\n",
    "#   pvalue = numeric(n_combinations),\n",
    "#   effect = numeric(n_combinations),\n",
    "#   r.squared = numeric(n_combinations),\n",
    "#   adj.r.squared = numeric(n_combinations)\n",
    "# )\n",
    "\n",
    "\n",
    "models <- list()\n",
    "for (i in 1:nrow(xys)) {\n",
    "\n",
    "  x <- as.character(xys[i, 1])\n",
    "  y <- as.character(xys[i, 2])\n",
    "\n",
    "    if (x != y){\n",
    "        formula <- paste(\"AMP_MIC.rankscaled ~ `\", x, \"` + `\", y, \"`\", sep=\"\")\n",
    "\n",
    "        models[[i]] <- lm(formula = formula, df)\n",
    "\n",
    "        # models <- append(models, model)\n",
    "        # print(paste(\"x: \", x, \"y: \", y))\n",
    "        # print(typeof(x))\n",
    "        # print(x)\n",
    "        }\n",
    "}\n",
    "models <- Filter(Negate(is.null), models)"
   ]
  },
  {
   "cell_type": "code",
   "execution_count": 31,
   "id": "2ff7f92a-eb39-40c3-8475-47fcdee9aeda",
   "metadata": {},
   "outputs": [
    {
     "data": {
      "text/plain": [
       "\n",
       "Call:\n",
       "lm(formula = formula, data = df)\n",
       "\n",
       "Residuals:\n",
       "     Min       1Q   Median       3Q      Max \n",
       "-2.55770 -0.62781  0.08501  0.66836  2.66790 \n",
       "\n",
       "Coefficients:\n",
       "            Estimate Std. Error t value Pr(>|t|)    \n",
       "(Intercept) -0.07067    0.07700  -0.918 0.359605    \n",
       "`1688314_T` -0.81657    0.22629  -3.609 0.000369 ***\n",
       "`1688312_A`  0.32457    0.12716   2.552 0.011273 *  \n",
       "---\n",
       "Signif. codes:  0 ‘***’ 0.001 ‘**’ 0.01 ‘*’ 0.05 ‘.’ 0.1 ‘ ’ 1\n",
       "\n",
       "Residual standard error: 0.9493 on 259 degrees of freedom\n",
       "Multiple R-squared:  0.05427,\tAdjusted R-squared:  0.04697 \n",
       "F-statistic: 7.431 on 2 and 259 DF,  p-value: 0.0007274\n"
      ]
     },
     "metadata": {},
     "output_type": "display_data"
    }
   ],
   "source": [
    "summary(models[[1]])"
   ]
  },
  {
   "cell_type": "code",
   "execution_count": 13,
   "id": "3f9314f7-88cc-4f34-a368-0f3fe87529f7",
   "metadata": {},
   "outputs": [
    {
     "data": {
      "text/plain": [
       "\n",
       "Call:\n",
       "lm(formula = AMP_MIC.rankscaled ~ ., data = df2)\n",
       "\n",
       "Residuals:\n",
       "     Min       1Q   Median       3Q      Max \n",
       "-1.73335 -0.40463 -0.02871  0.31404  3.12357 \n",
       "\n",
       "Coefficients: (4 not defined because of singularities)\n",
       "            Estimate Std. Error t value Pr(>|t|)    \n",
       "(Intercept) -0.89502    0.18833  -4.752 3.52e-06 ***\n",
       "`1688312_A`  0.30682    0.20376   1.506 0.133474    \n",
       "`1688314_T` -0.02019    0.42392  -0.048 0.962055    \n",
       "`1688320_C`  0.51279    0.49890   1.028 0.305094    \n",
       "`1688338_T`  0.26556    0.36557   0.726 0.468309    \n",
       "`1688339_T` -0.11173    0.37015  -0.302 0.763026    \n",
       "`1688340_G`       NA         NA      NA       NA    \n",
       "`1688350_C`       NA         NA      NA       NA    \n",
       "`1688354_T`       NA         NA      NA       NA    \n",
       "`1688361_A` -0.10854    0.44618  -0.243 0.808014    \n",
       "`1688365_A` -0.03817    0.33685  -0.113 0.909877    \n",
       "`1688365_G`       NA         NA      NA       NA    \n",
       "`1688415_C` -0.35758    0.26983  -1.325 0.186404    \n",
       "`1688482_T`  0.33326    0.21650   1.539 0.125088    \n",
       "`1688533_A` -0.18680    0.33481  -0.558 0.577433    \n",
       "`1688543_T`  0.40139    0.47168   0.851 0.395649    \n",
       "`1688543_C`  0.96974    0.30037   3.228 0.001424 ** \n",
       "`1688616_A`  0.25321    0.34734   0.729 0.466741    \n",
       "`1688617_T`  0.49094    0.40545   1.211 0.227177    \n",
       "`1688652_T` -0.02747    0.27226  -0.101 0.919711    \n",
       "`1688770_T` -0.17746    0.19618  -0.905 0.366619    \n",
       "`1688776_C` -0.37284    0.33603  -1.110 0.268338    \n",
       "`1688990_A`  0.88346    0.26010   3.397 0.000802 ***\n",
       "`1689405_T`  0.03396    0.20129   0.169 0.866173    \n",
       "`1689438_A` -0.20221    0.56219  -0.360 0.719411    \n",
       "`1689466_T` -1.47037    0.57518  -2.556 0.011213 *  \n",
       "`1689667_C`  1.28286    0.51384   2.497 0.013230 *  \n",
       "`1689700_T` -0.15728    0.15660  -1.004 0.316250    \n",
       "`1689747_A` -0.13808    0.39446  -0.350 0.726610    \n",
       "`1689751_T` -0.02660    0.39124  -0.068 0.945854    \n",
       "`1690021_G` -1.59146    0.97096  -1.639 0.102552    \n",
       "`1690057_T` -0.01865    0.20045  -0.093 0.925946    \n",
       "`1690102_G`  1.36389    0.97282   1.402 0.162247    \n",
       "---\n",
       "Signif. codes:  0 ‘***’ 0.001 ‘**’ 0.01 ‘*’ 0.05 ‘.’ 0.1 ‘ ’ 1\n",
       "\n",
       "Residual standard error: 0.728 on 233 degrees of freedom\n",
       "Multiple R-squared:  0.4997,\tAdjusted R-squared:  0.4396 \n",
       "F-statistic: 8.312 on 28 and 233 DF,  p-value: < 2.2e-16\n"
      ]
     },
     "metadata": {},
     "output_type": "display_data"
    }
   ],
   "source": [
    "df <- read_feather('~/Documents/hinf/results/feather/Hinf_norm_mic.feather')\n",
    "df$AMP_MIC <- as.numeric(df$AMP_MIC)\n",
    "df$AMP_MIC.rankscaled <- RankNorm(df$AMP_MIC)\n",
    "df <- subset(df, select = -c(FullID, Perc.ReadsMapped, CoverageMappedReads,\n",
    "                             origin, AMP, serotype, beta_lactamase, samples, AMP_MIC))\n",
    "\n",
    "mutations <- c('ID_1688312_A', 'ID_1688314_T', 'ID_1688320_C', 'ID_1688338_T', 'ID_1688339_T', 'ID_1688340_G', 'ID_1688350_C', 'ID_1688354_T', 'ID_1688361_A', 'ID_1688365_A', 'ID_1688365_G', 'ID_1688415_C', 'ID_1688482_T', 'ID_1688533_A', \n",
    "               'ID_1688543_T', 'ID_1688543_C', 'ID_1688616_A', 'ID_1688617_T', 'ID_1688652_T', 'ID_1688770_T', 'ID_1688776_C', 'ID_1688990_A', 'ID_1689405_T', 'ID_1689438_A', 'ID_1689466_T', 'ID_1689667_C', 'ID_1689700_T', 'ID_1689747_A', \n",
    "               'ID_1689751_T', 'ID_1690021_G','ID_1690057_T', 'ID_1690102_G')\n",
    "df2 <- select(df, AMP_MIC.rankscaled, all_of(mutations))\n",
    "\n",
    "model_all <-lm(AMP_MIC.rankscaled ~ ., df2)\n",
    "summary(model_all)\n",
    "# 1689466_T\n",
    "# 1689667_C"
   ]
  },
  {
   "cell_type": "code",
   "execution_count": null,
   "id": "fd895452-474a-479b-8c29-4135f3e27674",
   "metadata": {},
   "outputs": [],
   "source": []
  }
 ],
 "metadata": {
  "kernelspec": {
   "display_name": "R",
   "language": "R",
   "name": "ir"
  },
  "language_info": {
   "codemirror_mode": "r",
   "file_extension": ".r",
   "mimetype": "text/x-r-source",
   "name": "R",
   "pygments_lexer": "r",
   "version": "4.3.2"
  }
 },
 "nbformat": 4,
 "nbformat_minor": 5
}
